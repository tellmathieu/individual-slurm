{
 "cells": [
  {
   "cell_type": "markdown",
   "id": "dbcfa1b4-4ca9-427d-a396-1b831b0d6800",
   "metadata": {},
   "source": [
    "## Setting Up a Simple Slurm Cluster on Amazon Web Services for Personal Use\n",
    "\n",
    "***Note: This does cost money, be sure to monitor costs.***\n",
    "\n",
    "#### Prerequisite:\n",
    "- AWS account (go here to make an account: https://aws.amazon.com/)\n",
    "\n",
    "#### Tutorial Used:\n",
    "- https://www.tecracer.com/blog/2023/05/hello-slurm-getting-started-with-high-performance-computing-on-aws.html"
   ]
  },
  {
   "cell_type": "markdown",
   "id": "87148b0e-2f50-466d-950e-bbc6942d0f8e",
   "metadata": {},
   "source": [
    "### Step 1: Launch an EC2 Instance\n",
    "1. Once logged into aws, type *ec2* into the search\n",
    "2. There should be a button on the page that says *Launch Instance*, click on that.\n",
    "3. File in information for the ec2 instance\n",
    "    - **Name:** enter a name that is relevant and memorable. Mine was *HPC-BASE13*.\n",
    "    - **Application and OS Image:** Amazon Linux 2023\n",
    "    - **Key Pair:** Use a pre-established key pair that you used before or create a new one. I imagine best practice is a new one. This will generate a *.pem* file. Save it to your computer, when you `ssh` in, this is like login credentials.\n",
    "    - **Network Settings:** I did not touch this.\n",
    "    - **Configure Storage:** I did not touch this.\n",
    "    - **Advanced Settings:** I only set the IAM Instance profile to an IAM profile that I gave admin access to. This is necessary or you will get errors.\n",
    "4. Click *Launch Instance*, and it'll get setup. The instance will be a blank slate with no files on it, so next we have to configure it to act as our slurm base."
   ]
  },
  {
   "cell_type": "markdown",
   "id": "031c04fe-dca2-4a62-bd5a-3c7cc92b8440",
   "metadata": {
    "tags": []
   },
   "source": [
    "### Step 2: Configure Slurm Base Instance\n",
    "\n",
    "The base instance you create here basically will do a lot of the cluster things automatically for you.\n",
    "\n"
   ]
  },
  {
   "cell_type": "code",
   "execution_count": null,
   "id": "28fda9e8-e734-45e2-83c6-f9ef5d46dc7f",
   "metadata": {},
   "outputs": [],
   "source": []
  }
 ],
 "metadata": {
  "kernelspec": {
   "display_name": "Python 3 (ipykernel)",
   "language": "python",
   "name": "python3"
  },
  "language_info": {
   "codemirror_mode": {
    "name": "ipython",
    "version": 3
   },
   "file_extension": ".py",
   "mimetype": "text/x-python",
   "name": "python",
   "nbconvert_exporter": "python",
   "pygments_lexer": "ipython3",
   "version": "3.11.3"
  }
 },
 "nbformat": 4,
 "nbformat_minor": 5
}
